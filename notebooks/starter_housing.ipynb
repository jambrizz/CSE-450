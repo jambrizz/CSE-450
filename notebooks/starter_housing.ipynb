{
  "cells": [
    {
      "cell_type": "markdown",
      "metadata": {
        "id": "view-in-github",
        "colab_type": "text"
      },
      "source": [
        "<a href=\"https://colab.research.google.com/github/jambrizz/CSE-450/blob/main/notebooks/starter_housing.ipynb\" target=\"_parent\"><img src=\"https://colab.research.google.com/assets/colab-badge.svg\" alt=\"Open In Colab\"/></a>"
      ]
    },
    {
      "cell_type": "code",
      "execution_count": 1,
      "metadata": {
        "id": "y8sYkFyd5fc9",
        "outputId": "0523c054-025a-4e8a-ceee-40fc36631339",
        "colab": {
          "base_uri": "https://localhost:8080/"
        }
      },
      "outputs": [
        {
          "output_type": "stream",
          "name": "stdout",
          "text": [
            "Collecting scikit-learn==1.5.2\n",
            "  Downloading scikit_learn-1.5.2-cp311-cp311-manylinux_2_17_x86_64.manylinux2014_x86_64.whl.metadata (13 kB)\n",
            "Requirement already satisfied: numpy>=1.19.5 in /usr/local/lib/python3.11/dist-packages (from scikit-learn==1.5.2) (1.26.4)\n",
            "Requirement already satisfied: scipy>=1.6.0 in /usr/local/lib/python3.11/dist-packages (from scikit-learn==1.5.2) (1.13.1)\n",
            "Requirement already satisfied: joblib>=1.2.0 in /usr/local/lib/python3.11/dist-packages (from scikit-learn==1.5.2) (1.4.2)\n",
            "Requirement already satisfied: threadpoolctl>=3.1.0 in /usr/local/lib/python3.11/dist-packages (from scikit-learn==1.5.2) (3.5.0)\n",
            "Downloading scikit_learn-1.5.2-cp311-cp311-manylinux_2_17_x86_64.manylinux2014_x86_64.whl (13.3 MB)\n",
            "\u001b[2K   \u001b[90m━━━━━━━━━━━━━━━━━━━━━━━━━━━━━━━━━━━━━━━━\u001b[0m \u001b[32m13.3/13.3 MB\u001b[0m \u001b[31m37.7 MB/s\u001b[0m eta \u001b[36m0:00:00\u001b[0m\n",
            "\u001b[?25hInstalling collected packages: scikit-learn\n",
            "  Attempting uninstall: scikit-learn\n",
            "    Found existing installation: scikit-learn 1.6.1\n",
            "    Uninstalling scikit-learn-1.6.1:\n",
            "      Successfully uninstalled scikit-learn-1.6.1\n",
            "Successfully installed scikit-learn-1.5.2\n"
          ]
        }
      ],
      "source": [
        "!pip install scikit-learn==1.5.2"
      ]
    },
    {
      "cell_type": "code",
      "execution_count": 2,
      "metadata": {
        "id": "mA0HPVmIBT4C"
      },
      "outputs": [],
      "source": [
        "import pandas as pd\n",
        "\n",
        "housing = pd.read_csv('https://raw.githubusercontent.com/byui-cse/cse450-course/master/data/housing.csv')"
      ]
    },
    {
      "cell_type": "code",
      "execution_count": 6,
      "metadata": {
        "id": "StiU5QcPPxqQ"
      },
      "outputs": [],
      "source": [
        "#Jovani Ambriz\n",
        "import numpy as np\n",
        "import matplotlib.pyplot as plt\n",
        "import seaborn as sns\n",
        "import xgboost as xgb\n",
        "from sklearn.model_selection import RandomizedSearchCV\n",
        "from sklearn.model_selection import train_test_split\n",
        "from sklearn.preprocessing import StandardScaler, LabelEncoder\n",
        "from sklearn.metrics import mean_squared_error, r2_score\n",
        "from sklearn.model_selection import GridSearchCV"
      ]
    },
    {
      "cell_type": "code",
      "execution_count": 9,
      "metadata": {
        "colab": {
          "base_uri": "https://localhost:8080/"
        },
        "id": "ALLMN63FPyEQ",
        "outputId": "502ac83f-103e-4f62-f711-6162f0f4e581"
      },
      "outputs": [
        {
          "output_type": "stream",
          "name": "stdout",
          "text": [
            "<class 'pandas.core.frame.DataFrame'>\n",
            "RangeIndex: 20000 entries, 0 to 19999\n",
            "Data columns (total 21 columns):\n",
            " #   Column         Non-Null Count  Dtype  \n",
            "---  ------         --------------  -----  \n",
            " 0   id             20000 non-null  int64  \n",
            " 1   date           20000 non-null  object \n",
            " 2   bedrooms       20000 non-null  int64  \n",
            " 3   bathrooms      20000 non-null  float64\n",
            " 4   sqft_living    20000 non-null  int64  \n",
            " 5   sqft_lot       20000 non-null  int64  \n",
            " 6   floors         20000 non-null  float64\n",
            " 7   waterfront     20000 non-null  int64  \n",
            " 8   view           20000 non-null  int64  \n",
            " 9   condition      20000 non-null  int64  \n",
            " 10  grade          20000 non-null  int64  \n",
            " 11  sqft_above     20000 non-null  int64  \n",
            " 12  sqft_basement  20000 non-null  int64  \n",
            " 13  yr_built       20000 non-null  int64  \n",
            " 14  yr_renovated   20000 non-null  int64  \n",
            " 15  zipcode        20000 non-null  int64  \n",
            " 16  lat            20000 non-null  float64\n",
            " 17  long           20000 non-null  float64\n",
            " 18  sqft_living15  20000 non-null  int64  \n",
            " 19  sqft_lot15     20000 non-null  int64  \n",
            " 20  price          20000 non-null  float64\n",
            "dtypes: float64(5), int64(15), object(1)\n",
            "memory usage: 3.2+ MB\n",
            "                 id      bedrooms     bathrooms   sqft_living      sqft_lot  \\\n",
            "count  2.000000e+04  20000.000000  20000.000000  20000.000000  2.000000e+04   \n",
            "mean   4.580297e+09      3.370200      2.115750   2079.883100  1.501533e+04   \n",
            "std    2.875295e+09      0.931931      0.770134    919.433672  3.970135e+04   \n",
            "min    1.000102e+06      0.000000      0.000000    290.000000  5.200000e+02   \n",
            "25%    2.123049e+09      3.000000      1.750000   1430.000000  5.040000e+03   \n",
            "50%    3.904955e+09      3.000000      2.250000   1910.000000  7.620000e+03   \n",
            "75%    7.309825e+09      4.000000      2.500000   2550.000000  1.071000e+04   \n",
            "max    9.900000e+09     33.000000      8.000000  13540.000000  1.164794e+06   \n",
            "\n",
            "            floors    waterfront          view     condition         grade  \\\n",
            "count  20000.00000  20000.000000  20000.000000  20000.000000  20000.000000   \n",
            "mean       1.49645      0.007550      0.234900      3.409700      7.657700   \n",
            "std        0.54095      0.086564      0.767692      0.651895      1.175287   \n",
            "min        1.00000      0.000000      0.000000      1.000000      1.000000   \n",
            "25%        1.00000      0.000000      0.000000      3.000000      7.000000   \n",
            "50%        1.50000      0.000000      0.000000      3.000000      7.000000   \n",
            "75%        2.00000      0.000000      0.000000      4.000000      8.000000   \n",
            "max        3.50000      1.000000      4.000000      5.000000     13.000000   \n",
            "\n",
            "         sqft_above  sqft_basement      yr_built  yr_renovated       zipcode  \\\n",
            "count  20000.000000   20000.000000  20000.000000  20000.000000  20000.000000   \n",
            "mean    1790.232900     289.650200   1971.100150     82.732150  98077.876850   \n",
            "std      829.587101     441.537072     29.374008    397.872344     53.438026   \n",
            "min      290.000000       0.000000   1900.000000      0.000000  98001.000000   \n",
            "25%     1200.000000       0.000000   1951.750000      0.000000  98033.000000   \n",
            "50%     1560.000000       0.000000   1975.000000      0.000000  98065.000000   \n",
            "75%     2210.000000     560.000000   1997.000000      0.000000  98117.000000   \n",
            "max     9410.000000    4820.000000   2015.000000   2015.000000  98199.000000   \n",
            "\n",
            "                lat          long  sqft_living15    sqft_lot15         price  \n",
            "count  20000.000000  20000.000000   20000.000000   20000.00000  2.000000e+04  \n",
            "mean      47.559970   -122.213897    1986.387500   12748.96040  5.394367e+05  \n",
            "std        0.138517      0.140649     685.211515   27076.48904  3.664334e+05  \n",
            "min       47.155900   -122.519000     399.000000     651.00000  7.500000e+04  \n",
            "25%       47.470675   -122.328000    1490.000000    5100.00000  3.220000e+05  \n",
            "50%       47.571450   -122.230000    1840.000000    7622.00000  4.500000e+05  \n",
            "75%       47.678000   -122.124000    2360.000000   10088.25000  6.416250e+05  \n",
            "max       47.777600   -121.315000    6210.000000  871200.00000  7.700000e+06  \n",
            "id               0\n",
            "date             0\n",
            "bedrooms         0\n",
            "bathrooms        0\n",
            "sqft_living      0\n",
            "sqft_lot         0\n",
            "floors           0\n",
            "waterfront       0\n",
            "view             0\n",
            "condition        0\n",
            "grade            0\n",
            "sqft_above       0\n",
            "sqft_basement    0\n",
            "yr_built         0\n",
            "yr_renovated     0\n",
            "zipcode          0\n",
            "lat              0\n",
            "long             0\n",
            "sqft_living15    0\n",
            "sqft_lot15       0\n",
            "price            0\n",
            "dtype: int64\n",
            "The number of rows below\n",
            "20000\n"
          ]
        }
      ],
      "source": [
        "#inspecting what we have to work with\n",
        "housing.info()\n",
        "print(housing.describe())\n",
        "print(housing.isnull().sum())\n",
        "housing.head()\n",
        "print('The number of rows below')\n",
        "print(len(housing))"
      ]
    },
    {
      "cell_type": "code",
      "execution_count": 11,
      "metadata": {
        "id": "CVSfaqgKPzE2"
      },
      "outputs": [],
      "source": [
        "#This bit is to deal with missing values\n",
        "housing.fillna(housing.median, inplace=True)\n",
        "#drop unnecessary columns for predicting\n",
        "housing.drop(columns=['id', 'date'], inplace=True)"
      ]
    },
    {
      "cell_type": "code",
      "source": [
        "#convert zipcode into numerical representations\n",
        "le = LabelEncoder()\n",
        "housing['zipcode'] = le.fit_transform(housing['zipcode'])\n",
        "\n",
        "housing['grade_group'] = pd.cut(housing['grade'], bins=[1, 6 , 10, 13], labels=['low', 'medium', 'high'])\n",
        "housing.drop(columns=['grade'], inplace=True) #this drops the column after binning\n",
        "housing['grade_group'] = le.fit_transform(housing['grade_group']) #encode bins"
      ],
      "metadata": {
        "id": "aaaUn33-JfXc"
      },
      "execution_count": 13,
      "outputs": []
    },
    {
      "cell_type": "code",
      "source": [
        "#prep for data modeling"
      ],
      "metadata": {
        "id": "7T_AAP30LM5f"
      },
      "execution_count": null,
      "outputs": []
    }
  ],
  "metadata": {
    "colab": {
      "name": "starter_housing.ipynb",
      "provenance": [],
      "include_colab_link": true
    },
    "kernelspec": {
      "display_name": "Python 3",
      "name": "python3"
    }
  },
  "nbformat": 4,
  "nbformat_minor": 0
}